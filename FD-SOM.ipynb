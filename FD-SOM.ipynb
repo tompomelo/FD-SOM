from google.colab import drive
drive.mount('/content/drive')

# import libraries
import numpy as np
import matplotlib.pyplot as plt
import pandas as pd

# import dataset
dataset = pd.read_csv('/content/drive/My Drive/Self_Organizing_Maps/Credit_Card_Applications.csv')
# create subsets
X = dataset.iloc[:, :-1].values
y = dataset.iloc[:, -1].values

# feature scaling
from sklearn.preprocessing import MinMaxScaler
sc = MinMaxScaler(feature_range = (0, 1))
X = sc.fit_transform(X)

# training the SOM
# using minisom
# pip install minisom

from minisom import MiniSom
